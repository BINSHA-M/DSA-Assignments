{
 "cells": [
  {
   "cell_type": "code",
   "execution_count": 2,
   "id": "cc150e15",
   "metadata": {},
   "outputs": [],
   "source": [
    "import pandas as pd\n",
    "import numpy as np\n",
    "import matplotlib.pyplot as plt"
   ]
  },
  {
   "cell_type": "code",
   "execution_count": 3,
   "id": "f2794dd4",
   "metadata": {},
   "outputs": [],
   "source": [
    "data=pd.read_csv(\"C:/Users/abhis/Desktop/DSA Dataset/Sales_data_zone_wise.csv\")"
   ]
  },
  {
   "cell_type": "code",
   "execution_count": 4,
   "id": "ea3572b1",
   "metadata": {},
   "outputs": [
    {
     "data": {
      "text/html": [
       "<div>\n",
       "<style scoped>\n",
       "    .dataframe tbody tr th:only-of-type {\n",
       "        vertical-align: middle;\n",
       "    }\n",
       "\n",
       "    .dataframe tbody tr th {\n",
       "        vertical-align: top;\n",
       "    }\n",
       "\n",
       "    .dataframe thead th {\n",
       "        text-align: right;\n",
       "    }\n",
       "</style>\n",
       "<table border=\"1\" class=\"dataframe\">\n",
       "  <thead>\n",
       "    <tr style=\"text-align: right;\">\n",
       "      <th></th>\n",
       "      <th>Month</th>\n",
       "      <th>Zone - A</th>\n",
       "      <th>Zone - B</th>\n",
       "      <th>Zone - C</th>\n",
       "      <th>Zone - D</th>\n",
       "    </tr>\n",
       "  </thead>\n",
       "  <tbody>\n",
       "    <tr>\n",
       "      <th>0</th>\n",
       "      <td>Month - 1</td>\n",
       "      <td>1483525</td>\n",
       "      <td>1748451</td>\n",
       "      <td>1523308</td>\n",
       "      <td>2267260</td>\n",
       "    </tr>\n",
       "    <tr>\n",
       "      <th>1</th>\n",
       "      <td>Month - 2</td>\n",
       "      <td>1238428</td>\n",
       "      <td>1707421</td>\n",
       "      <td>2212113</td>\n",
       "      <td>1994341</td>\n",
       "    </tr>\n",
       "    <tr>\n",
       "      <th>2</th>\n",
       "      <td>Month - 3</td>\n",
       "      <td>1860771</td>\n",
       "      <td>2091194</td>\n",
       "      <td>1282374</td>\n",
       "      <td>1241600</td>\n",
       "    </tr>\n",
       "    <tr>\n",
       "      <th>3</th>\n",
       "      <td>Month - 4</td>\n",
       "      <td>1871571</td>\n",
       "      <td>1759617</td>\n",
       "      <td>2290580</td>\n",
       "      <td>2252681</td>\n",
       "    </tr>\n",
       "    <tr>\n",
       "      <th>4</th>\n",
       "      <td>Month - 5</td>\n",
       "      <td>1244922</td>\n",
       "      <td>1606010</td>\n",
       "      <td>1818334</td>\n",
       "      <td>1326062</td>\n",
       "    </tr>\n",
       "  </tbody>\n",
       "</table>\n",
       "</div>"
      ],
      "text/plain": [
       "       Month  Zone - A  Zone - B  Zone - C  Zone - D\n",
       "0  Month - 1   1483525   1748451   1523308   2267260\n",
       "1  Month - 2   1238428   1707421   2212113   1994341\n",
       "2  Month - 3   1860771   2091194   1282374   1241600\n",
       "3  Month - 4   1871571   1759617   2290580   2252681\n",
       "4  Month - 5   1244922   1606010   1818334   1326062"
      ]
     },
     "execution_count": 4,
     "metadata": {},
     "output_type": "execute_result"
    }
   ],
   "source": [
    "data.head()"
   ]
  },
  {
   "cell_type": "markdown",
   "id": "99da2488",
   "metadata": {},
   "source": [
    "# Mean sales in each Zone"
   ]
  },
  {
   "cell_type": "code",
   "execution_count": 5,
   "id": "da10a7f6",
   "metadata": {},
   "outputs": [
    {
     "data": {
      "text/plain": [
       "Zone - A    1540493.14\n",
       "Zone - B    1755559.59\n",
       "Zone - C    1772871.03\n",
       "Zone - D    1842926.76\n",
       "dtype: float64"
      ]
     },
     "execution_count": 5,
     "metadata": {},
     "output_type": "execute_result"
    }
   ],
   "source": [
    "mean=data.mean(axis=0)\n",
    "round(mean,2)"
   ]
  },
  {
   "cell_type": "markdown",
   "id": "778dbf84",
   "metadata": {},
   "source": [
    "# Mean sales in each month"
   ]
  },
  {
   "cell_type": "code",
   "execution_count": 6,
   "id": "d3e5dff7",
   "metadata": {},
   "outputs": [
    {
     "data": {
      "text/plain": [
       "0     1755636.00\n",
       "1     1788075.75\n",
       "2     1618984.75\n",
       "3     2043612.25\n",
       "4     1498832.00\n",
       "5     1787846.75\n",
       "6     1821777.00\n",
       "7     1954074.75\n",
       "8     1675848.75\n",
       "9     1782052.50\n",
       "10    1758195.75\n",
       "11    1527771.00\n",
       "12    1481356.00\n",
       "13    1788878.75\n",
       "14    1483539.00\n",
       "15    1626664.75\n",
       "16    1787345.75\n",
       "17    1770872.50\n",
       "18    1742988.25\n",
       "19    1781149.75\n",
       "20    1847399.25\n",
       "21    1890000.25\n",
       "22    1671979.75\n",
       "23    1946186.75\n",
       "24    1523979.50\n",
       "25    1628090.00\n",
       "26    1566979.50\n",
       "27    1867730.00\n",
       "28    1693069.25\n",
       "dtype: float64"
      ]
     },
     "execution_count": 6,
     "metadata": {},
     "output_type": "execute_result"
    }
   ],
   "source": [
    "mean=data.mean(axis=1)\n",
    "round(mean,2)"
   ]
  },
  {
   "cell_type": "markdown",
   "id": "f1fbfe1a",
   "metadata": {},
   "source": [
    "# ANOVA"
   ]
  },
  {
   "cell_type": "markdown",
   "id": "b749bcf5",
   "metadata": {},
   "source": [
    "Consider H0:Mean sales in each zones are same,H1:Atleast one of the zones mean is different"
   ]
  },
  {
   "cell_type": "code",
   "execution_count": 7,
   "id": "d57f60bc",
   "metadata": {},
   "outputs": [],
   "source": [
    "import scipy.stats as stats"
   ]
  },
  {
   "cell_type": "code",
   "execution_count": 8,
   "id": "d24afebc",
   "metadata": {},
   "outputs": [
    {
     "data": {
      "text/plain": [
       "Index(['Month', 'Zone - A', 'Zone - B', 'Zone - C', 'Zone - D'], dtype='object')"
      ]
     },
     "execution_count": 8,
     "metadata": {},
     "output_type": "execute_result"
    }
   ],
   "source": [
    "data.columns"
   ]
  },
  {
   "cell_type": "code",
   "execution_count": 9,
   "id": "ac076ddd",
   "metadata": {},
   "outputs": [],
   "source": [
    "fvalue,pvalue=stats.f_oneway(data['Zone - A'],data['Zone - B'],data['Zone - C'],data['Zone - D'])"
   ]
  },
  {
   "cell_type": "code",
   "execution_count": 11,
   "id": "11432eb4",
   "metadata": {},
   "outputs": [
    {
     "data": {
      "text/plain": [
       "(5.672056106843581, 0.0011827601694503335)"
      ]
     },
     "execution_count": 11,
     "metadata": {},
     "output_type": "execute_result"
    }
   ],
   "source": [
    "fvalue,pvalue"
   ]
  },
  {
   "cell_type": "markdown",
   "id": "d3b24ada",
   "metadata": {},
   "source": [
    "P value is lessthan 0.05 so we reject the nullhypothesis that the mean sales in each zones are same.Ie mean sales in each zones are different.\n"
   ]
  },
  {
   "cell_type": "code",
   "execution_count": null,
   "id": "479257bc",
   "metadata": {},
   "outputs": [],
   "source": [
    "\n"
   ]
  }
 ],
 "metadata": {
  "kernelspec": {
   "display_name": "Python 3",
   "language": "python",
   "name": "python3"
  },
  "language_info": {
   "codemirror_mode": {
    "name": "ipython",
    "version": 3
   },
   "file_extension": ".py",
   "mimetype": "text/x-python",
   "name": "python",
   "nbconvert_exporter": "python",
   "pygments_lexer": "ipython3",
   "version": "3.8.8"
  }
 },
 "nbformat": 4,
 "nbformat_minor": 5
}
